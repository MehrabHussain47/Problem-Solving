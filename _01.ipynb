{
  "nbformat": 4,
  "nbformat_minor": 0,
  "metadata": {
    "colab": {
      "provenance": [],
      "authorship_tag": "ABX9TyOzn0JUzeg3BflKMr092Wa1",
      "include_colab_link": true
    },
    "kernelspec": {
      "name": "python3",
      "display_name": "Python 3"
    },
    "language_info": {
      "name": "python"
    }
  },
  "cells": [
    {
      "cell_type": "markdown",
      "metadata": {
        "id": "view-in-github",
        "colab_type": "text"
      },
      "source": [
        "<a href=\"https://colab.research.google.com/github/MehrabHussain47/Problem-Solving/blob/master/_01.ipynb\" target=\"_parent\"><img src=\"https://colab.research.google.com/assets/colab-badge.svg\" alt=\"Open In Colab\"/></a>"
      ]
    },
    {
      "cell_type": "markdown",
      "source": [
        "# Problem-01 :\n",
        "\n",
        "##### Write a Python program that takes a number as input and checks whether it is even or odd."
      ],
      "metadata": {
        "id": "RJi_wCRgTfjM"
      }
    },
    {
      "cell_type": "code",
      "execution_count": null,
      "metadata": {
        "colab": {
          "base_uri": "https://localhost:8080/"
        },
        "id": "rIsYTb4bSecG",
        "outputId": "627d4b9e-7559-4846-b934-087c69c13f08"
      },
      "outputs": [
        {
          "output_type": "stream",
          "name": "stdout",
          "text": [
            "Enter a number: 28\n",
            "Number is even.\n"
          ]
        }
      ],
      "source": [
        "num = int(input(\"Enter a number: \"))\n",
        "\n",
        "if(num%2 == 0):\n",
        "  print(\"Number is even.\")\n",
        "else:\n",
        "  print(\"Number is odd.\")"
      ]
    },
    {
      "cell_type": "markdown",
      "source": [
        "# Problem-02 :\n",
        "\n",
        "#####  Write a program that takes two numbers and an operator (+, -, *, /) and performs the calculation."
      ],
      "metadata": {
        "id": "3WHJVKywWAc7"
      }
    },
    {
      "cell_type": "code",
      "source": [
        "num1 = int(input(\"Enter first number: \"))\n",
        "operator = input(\"Enter operator: \")\n",
        "num2 = int(input(\"Enter second number: \"))\n",
        "\n",
        "if(operator == '+'):\n",
        "  result = num1 + num2\n",
        "elif(operator == '-'):\n",
        "  result = num1 - num2\n",
        "elif(operator == '*'):\n",
        "  result = num1 * num2\n",
        "elif(operator == '/'):\n",
        "  if(num2 == 0):\n",
        "    result = \"Error: Division by zero\"\n",
        "  else:\n",
        "    result = num1 / num2\n",
        "else:\n",
        "  result = \"Error: Invalid operator\"\n",
        "\n",
        "print(\"The result is: \",result)\n"
      ],
      "metadata": {
        "id": "5nVESRXKTJct",
        "colab": {
          "base_uri": "https://localhost:8080/"
        },
        "outputId": "9c7caa29-9153-48d4-bf17-11be48059e55"
      },
      "execution_count": null,
      "outputs": [
        {
          "output_type": "stream",
          "name": "stdout",
          "text": [
            "Enter first number: 27\n",
            "Enter operator: /\n",
            "Enter second number: 0\n",
            "The result is:  Error: Division by zero\n"
          ]
        }
      ]
    },
    {
      "cell_type": "markdown",
      "source": [
        "# Problem-03 :\n",
        "\n",
        "#####  Write a program using a for loop that calculates the sum of even numbers between 1 and 100."
      ],
      "metadata": {
        "id": "-HcAe42Lb100"
      }
    },
    {
      "cell_type": "code",
      "source": [
        "sum = 0\n",
        "\n",
        "for num in range(1,101):\n",
        "  if(num%2 == 0):\n",
        "    sum = sum + num\n",
        "  else:\n",
        "    continue\n",
        "\n",
        "print(\"Sum of even numbers between 1 and 100 is: \",sum)\n"
      ],
      "metadata": {
        "colab": {
          "base_uri": "https://localhost:8080/"
        },
        "id": "0FH4m9jXUrks",
        "outputId": "0879d421-910f-4db4-ab92-0e16cb5ccc2d"
      },
      "execution_count": null,
      "outputs": [
        {
          "output_type": "stream",
          "name": "stdout",
          "text": [
            "Sum of even numbers between 1 and 100 is:  2550\n"
          ]
        }
      ]
    }
  ]
}