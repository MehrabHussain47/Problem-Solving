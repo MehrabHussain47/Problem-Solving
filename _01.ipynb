{
  "nbformat": 4,
  "nbformat_minor": 0,
  "metadata": {
    "colab": {
      "provenance": [],
      "authorship_tag": "ABX9TyPpbTMtDIANPq6CphAr69fa",
      "include_colab_link": true
    },
    "kernelspec": {
      "name": "python3",
      "display_name": "Python 3"
    },
    "language_info": {
      "name": "python"
    }
  },
  "cells": [
    {
      "cell_type": "markdown",
      "metadata": {
        "id": "view-in-github",
        "colab_type": "text"
      },
      "source": [
        "<a href=\"https://colab.research.google.com/github/MehrabHussain47/Problem-Solving/blob/master/_01.ipynb\" target=\"_parent\"><img src=\"https://colab.research.google.com/assets/colab-badge.svg\" alt=\"Open In Colab\"/></a>"
      ]
    },
    {
      "cell_type": "markdown",
      "source": [
        "#Question\n",
        "\n",
        "<b>Create a class named 'Student' with the variable 'name' and 'roll_no'. And write a Display method to display the name and roll_no. Assign the value of roll_no as '2' and that of name as \"John\" by creating an object of the class Student.</b>"
      ],
      "metadata": {
        "id": "TwZHwo14-TlF"
      }
    },
    {
      "cell_type": "code",
      "execution_count": 3,
      "metadata": {
        "colab": {
          "base_uri": "https://localhost:8080/"
        },
        "id": "ea3QmSjA8bPT",
        "outputId": "bf565b4f-568a-4be5-8323-c2387d973c9a"
      },
      "outputs": [
        {
          "output_type": "stream",
          "name": "stdout",
          "text": [
            "Name: John\n",
            "Roll No: 2\n"
          ]
        }
      ],
      "source": [
        "class Student:\n",
        "  def __init__(self, name, roll_no):\n",
        "    self.name = name\n",
        "    self.roll_no = roll_no\n",
        "\n",
        "  def Display(self):\n",
        "    print(f\"Name: {self.name}\")\n",
        "    print(f\"Roll No: {self.roll_no}\")\n",
        "\n",
        "s1 = Student(\"John\",2)\n",
        "s1.Display()"
      ]
    }
  ]
}