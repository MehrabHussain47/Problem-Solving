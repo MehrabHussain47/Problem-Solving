{
  "nbformat": 4,
  "nbformat_minor": 0,
  "metadata": {
    "colab": {
      "provenance": [],
      "authorship_tag": "ABX9TyPgUJomU3uDPQ2qqzfOGxFh",
      "include_colab_link": true
    },
    "kernelspec": {
      "name": "python3",
      "display_name": "Python 3"
    },
    "language_info": {
      "name": "python"
    }
  },
  "cells": [
    {
      "cell_type": "markdown",
      "metadata": {
        "id": "view-in-github",
        "colab_type": "text"
      },
      "source": [
        "<a href=\"https://colab.research.google.com/github/MehrabHussain47/Problem-Solving/blob/master/_05.ipynb\" target=\"_parent\"><img src=\"https://colab.research.google.com/assets/colab-badge.svg\" alt=\"Open In Colab\"/></a>"
      ]
    },
    {
      "cell_type": "markdown",
      "source": [
        "# Question\n",
        "\n",
        "<b>Write a function to make an hour-to-minute converter.</b>"
      ],
      "metadata": {
        "id": "4XoFtYdgTqqX"
      }
    },
    {
      "cell_type": "code",
      "source": [
        "def hour_to_minute(hours):\n",
        "  if hours < 0:\n",
        "    return \"Invalid Hours\"\n",
        "  return int(hours * 60)\n",
        "\n",
        "print(hour_to_minute(2))\n",
        "print(hour_to_minute(1.75))\n",
        "print(hour_to_minute(1.5))\n",
        "print(hour_to_minute(1))\n",
        "print(hour_to_minute(-1))"
      ],
      "metadata": {
        "colab": {
          "base_uri": "https://localhost:8080/"
        },
        "id": "yXj8EZKUTz22",
        "outputId": "58d7b4e2-541c-4f17-e196-7c1d13ea46e6"
      },
      "execution_count": null,
      "outputs": [
        {
          "output_type": "stream",
          "name": "stdout",
          "text": [
            "120\n",
            "105\n",
            "90\n",
            "60\n",
            "Invalid Hours\n"
          ]
        }
      ]
    }
  ]
}