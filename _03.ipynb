{
  "nbformat": 4,
  "nbformat_minor": 0,
  "metadata": {
    "colab": {
      "provenance": [],
      "authorship_tag": "ABX9TyNQFUb95LFBA6gMWugBvXSV",
      "include_colab_link": true
    },
    "kernelspec": {
      "name": "python3",
      "display_name": "Python 3"
    },
    "language_info": {
      "name": "python"
    }
  },
  "cells": [
    {
      "cell_type": "markdown",
      "metadata": {
        "id": "view-in-github",
        "colab_type": "text"
      },
      "source": [
        "<a href=\"https://colab.research.google.com/github/MehrabHussain47/Problem-Solving/blob/master/_03.ipynb\" target=\"_parent\"><img src=\"https://colab.research.google.com/assets/colab-badge.svg\" alt=\"Open In Colab\"/></a>"
      ]
    },
    {
      "cell_type": "markdown",
      "source": [
        "# Assignment: 01 (Understanding Data Structures and Functions)\n",
        "<p><b>Understanding Data Structures and Functions</b></p>"
      ],
      "metadata": {
        "id": "YgTzyCaT1Eyh"
      }
    },
    {
      "cell_type": "markdown",
      "source": [
        "<b>Problem: 01</b>\n",
        "\n",
        "<p>Write a function that takes two numbers as input and returns their average. Call the function with different values.</p>"
      ],
      "metadata": {
        "id": "wR_97vtp1Uc5"
      }
    },
    {
      "cell_type": "code",
      "execution_count": null,
      "metadata": {
        "colab": {
          "base_uri": "https://localhost:8080/"
        },
        "id": "amJYfL6axZ6T",
        "outputId": "73f68425-b529-4c87-b22d-084f91037fcf"
      },
      "outputs": [
        {
          "output_type": "stream",
          "name": "stdout",
          "text": [
            "Enter first number: 5\n",
            "Enter second number: 10\n",
            "First average by calling the function:  15.0\n",
            "Second average by calling the function:  10.0\n",
            "Third average by using two varibles as input and calling the function:  7.5\n"
          ]
        }
      ],
      "source": [
        "x = int(input(\"Enter first number: \"))\n",
        "y = int(input(\"Enter second number: \"))\n",
        "\n",
        "def avg(x,y):\n",
        "  return (x+y)/2\n",
        "\n",
        "avg1 = avg(10,20)\n",
        "print(\"First average by calling the function: \",avg1)\n",
        "\n",
        "avg2 = avg(5,15)\n",
        "print(\"Second average by calling the function: \",avg2)\n",
        "\n",
        "print(\"Third average by using two varibles as input and calling the function: \",avg(x,y))"
      ]
    },
    {
      "cell_type": "markdown",
      "source": [
        "<b>Problem: 02</b>\n",
        "\n",
        "<p>Write a function that sorts a list of strings alphabetically.<br>\n",
        "[\"apple\", \"banana\", \"cherry\", \"kiwi\", \"grape\"]</p>"
      ],
      "metadata": {
        "id": "9uT1xBpO1jZB"
      }
    },
    {
      "cell_type": "code",
      "source": [
        "a = [\"apple\", \"banana\", \"cherry\", \"kiwi\", \"grape\"]\n",
        "\n",
        "def sorting(a):\n",
        "    a.sort()\n",
        "    return a\n",
        "\n",
        "print(sorting(a))"
      ],
      "metadata": {
        "colab": {
          "base_uri": "https://localhost:8080/"
        },
        "id": "ld2atfYu12CA",
        "outputId": "1c05dd72-9b82-436a-9acd-fbb77e67755f"
      },
      "execution_count": null,
      "outputs": [
        {
          "output_type": "stream",
          "name": "stdout",
          "text": [
            "['apple', 'banana', 'cherry', 'grape', 'kiwi']\n"
          ]
        }
      ]
    },
    {
      "cell_type": "markdown",
      "source": [
        "<b>Problem: 03</b>\n",
        "\n",
        "<p>Write a Python program that creates a new list containing only the duplicate elements from the given list: [1, 5, 6, 5, 1, 2, 3].</p>"
      ],
      "metadata": {
        "id": "iJylhXu8138J"
      }
    },
    {
      "cell_type": "code",
      "source": [
        "a = [1, 5, 6, 5, 1, 2, 3]\n",
        "\n",
        "s = []\n",
        "dup = []\n",
        "\n",
        "for n in a:\n",
        "    if n in s:\n",
        "        dup.append(n)\n",
        "    else:\n",
        "        s.append(n)\n",
        "\n",
        "print(dup)"
      ],
      "metadata": {
        "colab": {
          "base_uri": "https://localhost:8080/"
        },
        "id": "sRBFYYlA2DMw",
        "outputId": "d2cfead4-c150-43b9-9974-12f59c2b7ea8"
      },
      "execution_count": null,
      "outputs": [
        {
          "output_type": "stream",
          "name": "stdout",
          "text": [
            "[5, 1]\n"
          ]
        }
      ]
    }
  ]
}