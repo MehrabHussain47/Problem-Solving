{
  "nbformat": 4,
  "nbformat_minor": 0,
  "metadata": {
    "colab": {
      "provenance": [],
      "authorship_tag": "ABX9TyMEGhZdtIVQs4A2H8K+Vl/g",
      "include_colab_link": true
    },
    "kernelspec": {
      "name": "python3",
      "display_name": "Python 3"
    },
    "language_info": {
      "name": "python"
    }
  },
  "cells": [
    {
      "cell_type": "markdown",
      "metadata": {
        "id": "view-in-github",
        "colab_type": "text"
      },
      "source": [
        "<a href=\"https://colab.research.google.com/github/MehrabHussain47/Problem-Solving/blob/master/_04.ipynb\" target=\"_parent\"><img src=\"https://colab.research.google.com/assets/colab-badge.svg\" alt=\"Open In Colab\"/></a>"
      ]
    },
    {
      "cell_type": "markdown",
      "source": [
        "# Assignment: 02 (Advanced-Data Structures and Comparison)"
      ],
      "metadata": {
        "id": "0EICnU8yPULw"
      }
    },
    {
      "cell_type": "markdown",
      "source": [
        "<b>Advanced-Data Structures and Comparison</b>\n",
        "\n",
        "<p>Write a Python program that takes two sets from the user and computes their union, intersection, and difference.</p>\n",
        "\n",
        "<p>A = {1, 2, 3, 4, 5}</p>\n",
        "\n",
        "<p>B = {4, 5, 6, 7, 8}</p>"
      ],
      "metadata": {
        "id": "4alRwM2HPfA_"
      }
    },
    {
      "cell_type": "code",
      "source": [
        "A = {1, 2, 3, 4, 5}\n",
        "B = {4, 5, 6, 7, 8}\n",
        "\n",
        "uni = A.union(B)\n",
        "inter = A.intersection(B)\n",
        "diff_A = A.difference(B)\n",
        "diff_B = B.difference(A)\n",
        "\n",
        "print(\"Union of A and B sets is: \",uni)\n",
        "print(\"Intersection of A and B sets is: \",inter)\n",
        "print(\"Difference of A and B sets is: \",diff_A)\n",
        "print(\"Difference of B and A sets is: \",diff_B)"
      ],
      "metadata": {
        "colab": {
          "base_uri": "https://localhost:8080/"
        },
        "id": "ZiTqLkDNPbyv",
        "outputId": "b6a2a8ef-a782-4e8d-d4f5-42a01ec0b3ac"
      },
      "execution_count": null,
      "outputs": [
        {
          "output_type": "stream",
          "name": "stdout",
          "text": [
            "Union of A and B sets is:  {1, 2, 3, 4, 5, 6, 7, 8}\n",
            "Intersection of A and B sets is:  {4, 5}\n",
            "Difference of A and B sets is:  {1, 2, 3}\n",
            "Difference of B and A sets is:  {8, 6, 7}\n"
          ]
        }
      ]
    }
  ]
}