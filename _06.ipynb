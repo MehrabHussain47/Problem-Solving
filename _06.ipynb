{
  "nbformat": 4,
  "nbformat_minor": 0,
  "metadata": {
    "colab": {
      "provenance": [],
      "authorship_tag": "ABX9TyMA+RgjA7Ei9MJjvrPlNdAj",
      "include_colab_link": true
    },
    "kernelspec": {
      "name": "python3",
      "display_name": "Python 3"
    },
    "language_info": {
      "name": "python"
    }
  },
  "cells": [
    {
      "cell_type": "markdown",
      "metadata": {
        "id": "view-in-github",
        "colab_type": "text"
      },
      "source": [
        "<a href=\"https://colab.research.google.com/github/MehrabHussain47/Problem-Solving/blob/master/_06.ipynb\" target=\"_parent\"><img src=\"https://colab.research.google.com/assets/colab-badge.svg\" alt=\"Open In Colab\"/></a>"
      ]
    },
    {
      "cell_type": "markdown",
      "source": [
        "# Assignment: 01 Introduction to OOP Concepts\n",
        "### Introduction to OOP Concepts\n",
        "\n",
        "\n",
        "\n",
        "<p>Create a class <b>Person</b> with attributes <b>name</b> and <b>age</b>. Create an object and display its details.<br>\n",
        "\n",
        "Input: Person(\"Alice\", 25)<br>\n",
        "\n",
        "Output: Name: Alice, Age: 25</p>"
      ],
      "metadata": {
        "id": "z6-gCn0-ul3w"
      }
    },
    {
      "cell_type": "code",
      "execution_count": null,
      "metadata": {
        "colab": {
          "base_uri": "https://localhost:8080/"
        },
        "id": "QABk8HWBuSFC",
        "outputId": "54ffdc03-2926-4e36-9f04-5eb5ccff96e0"
      },
      "outputs": [
        {
          "output_type": "stream",
          "name": "stdout",
          "text": [
            "Name: Alice, Age: 25\n"
          ]
        }
      ],
      "source": [
        "class Person:\n",
        "  def __init__(self, name, age):\n",
        "    self.name = name\n",
        "    self.age = age\n",
        "  def show(self):\n",
        "    print(f\"Name: {self.name}, Age: {self.age}\")\n",
        "person_1 = Person(\"Alice\", 25)\n",
        "person_1.show()"
      ]
    }
  ]
}