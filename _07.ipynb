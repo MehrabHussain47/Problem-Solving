{
  "nbformat": 4,
  "nbformat_minor": 0,
  "metadata": {
    "colab": {
      "provenance": [],
      "authorship_tag": "ABX9TyOFT4etYzFXoGMb7tHsxqE4",
      "include_colab_link": true
    },
    "kernelspec": {
      "name": "python3",
      "display_name": "Python 3"
    },
    "language_info": {
      "name": "python"
    }
  },
  "cells": [
    {
      "cell_type": "markdown",
      "metadata": {
        "id": "view-in-github",
        "colab_type": "text"
      },
      "source": [
        "<a href=\"https://colab.research.google.com/github/MehrabHussain47/Problem-Solving/blob/master/_07.ipynb\" target=\"_parent\"><img src=\"https://colab.research.google.com/assets/colab-badge.svg\" alt=\"Open In Colab\"/></a>"
      ]
    },
    {
      "cell_type": "markdown",
      "source": [
        "### Assignment: 02 Inheritance and Advanced OOP Features\n",
        "Inheritance and Advanced OOP Features\n",
        "\n",
        "Create a base class Animal and a derived class Dog that inherits from Animal.\n",
        "\n",
        "<b>Output:</b>\n",
        "\n",
        "Animals make different sounds. <b># From Animal class</b>\n",
        "\n",
        "Dog barks! <b># From Dog Class</b>"
      ],
      "metadata": {
        "id": "u80VMro5Lm8W"
      }
    },
    {
      "cell_type": "code",
      "source": [
        "class Animal:\n",
        "  def make_sound(self):\n",
        "    print(\"Animals make different sounds.\")\n",
        "\n",
        "class Dog(Animal):\n",
        "  def make_sound(self):\n",
        "    print(\"Dog barks!\")"
      ],
      "metadata": {
        "id": "NPsGnfXyL5fW"
      },
      "execution_count": null,
      "outputs": []
    },
    {
      "cell_type": "code",
      "source": [
        "a = Animal()\n",
        "d = Dog()"
      ],
      "metadata": {
        "id": "2sLn_h2yMps4"
      },
      "execution_count": null,
      "outputs": []
    },
    {
      "cell_type": "code",
      "source": [
        "a.make_sound()\n",
        "d.make_sound()"
      ],
      "metadata": {
        "colab": {
          "base_uri": "https://localhost:8080/"
        },
        "id": "EcAQjXBTMtbO",
        "outputId": "6cd04d31-baec-4581-c336-583a9cfc23e1"
      },
      "execution_count": null,
      "outputs": [
        {
          "output_type": "stream",
          "name": "stdout",
          "text": [
            "Animals make different sounds.\n",
            "Dog barks!\n"
          ]
        }
      ]
    }
  ]
}