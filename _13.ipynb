{
  "nbformat": 4,
  "nbformat_minor": 0,
  "metadata": {
    "colab": {
      "provenance": [],
      "authorship_tag": "ABX9TyNNePqXIhclKUs/Rb5rWVok",
      "include_colab_link": true
    },
    "kernelspec": {
      "name": "python3",
      "display_name": "Python 3"
    },
    "language_info": {
      "name": "python"
    }
  },
  "cells": [
    {
      "cell_type": "markdown",
      "metadata": {
        "id": "view-in-github",
        "colab_type": "text"
      },
      "source": [
        "<a href=\"https://colab.research.google.com/github/MehrabHussain47/Problem-Solving/blob/master/_13.ipynb\" target=\"_parent\"><img src=\"https://colab.research.google.com/assets/colab-badge.svg\" alt=\"Open In Colab\"/></a>"
      ]
    },
    {
      "cell_type": "markdown",
      "source": [
        "# Question\n",
        "\n",
        "<p>Is there any outlier in the following series? Find out the lower limit and upper limit of normal range.</p>"
      ],
      "metadata": {
        "id": "BifiwnsXXRvW"
      }
    },
    {
      "cell_type": "markdown",
      "source": [
        "![image.png](data:image/png;base64,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)"
      ],
      "metadata": {
        "id": "sVVvAU4KDVCx"
      }
    },
    {
      "cell_type": "code",
      "source": [
        "import pandas as pd\n",
        "\n",
        "# Step 1: Input the data\n",
        "data = [7, 9, 17, 45, 48, 51, 52, 63, 65, 72, 130]\n",
        "\n",
        "# Step 2: Sort the data\n",
        "sorted_data = sorted(data)\n",
        "print(\"Sorted Data:\", sorted_data)\n",
        "\n",
        "# Step 3: Convert to Pandas Series\n",
        "series = pd.Series(sorted_data)\n",
        "\n",
        "# Step 4: Calculate Q1, Q3, IQR\n",
        "Q1 = series.quantile(0.25)\n",
        "Q3 = series.quantile(0.75)\n",
        "IQR = Q3 - Q1\n",
        "\n",
        "# Step 5: Calculate normal range limits\n",
        "lower_limit = Q1 - 1.5 * IQR\n",
        "upper_limit = Q3 + 1.5 * IQR\n",
        "\n",
        "# Step 6: Identify outliers\n",
        "outliers = series[(series < lower_limit) | (series > upper_limit)]\n",
        "\n",
        "# Step 7: Minimum and Maximum\n",
        "min_val = series.min()\n",
        "max_val = series.max()\n",
        "\n",
        "# Final Output\n",
        "print(f\"Q1: {Q1}\")\n",
        "print(f\"Q3: {Q3}\")\n",
        "print(f\"IQR: {IQR}\")\n",
        "print(f\"Lower Limit of Normal Range: {lower_limit}\")\n",
        "print(f\"Upper Limit of Normal Range: {upper_limit}\")\n",
        "print(\"Outliers:\", outliers.values if not outliers.empty else \"None\")\n",
        "print(f\"Minimum Value: {min_val}\")\n",
        "print(f\"Maximum Value: {max_val}\")\n"
      ],
      "metadata": {
        "id": "Bonn7ebVMJIK",
        "colab": {
          "base_uri": "https://localhost:8080/"
        },
        "outputId": "f82424b2-bf76-4ca6-bf4a-05595437ca38"
      },
      "execution_count": 2,
      "outputs": [
        {
          "output_type": "stream",
          "name": "stdout",
          "text": [
            "Sorted Data: [7, 9, 17, 45, 48, 51, 52, 63, 65, 72, 130]\n",
            "Q1: 31.0\n",
            "Q3: 64.0\n",
            "IQR: 33.0\n",
            "Lower Limit of Normal Range: -18.5\n",
            "Upper Limit of Normal Range: 113.5\n",
            "Outliers: [130]\n",
            "Minimum Value: 7\n",
            "Maximum Value: 130\n"
          ]
        }
      ]
    },
    {
      "cell_type": "code",
      "source": [
        "import numpy as np\n",
        "\n",
        "data = [7, 9, 17, 45, 48, 51, 52, 63, 65, 72, 130]\n",
        "\n",
        "# Convert data to numpy array and sort\n",
        "data_sorted = np.sort(data)\n",
        "\n",
        "# Calculate Q1 and Q3 using numpy percentile\n",
        "Q1 = np.percentile(data_sorted, 25)\n",
        "Q3 = np.percentile(data_sorted, 75)\n",
        "\n",
        "# Calculate IQR\n",
        "IQR = Q3 - Q1\n",
        "\n",
        "# Calculate lower and upper limits\n",
        "lower_limit = Q1 - 1.5 * IQR\n",
        "upper_limit = Q3 + 1.5 * IQR\n",
        "\n",
        "# Find outliers\n",
        "outliers = [x for x in data_sorted if x < lower_limit or x > upper_limit]\n",
        "\n",
        "\n",
        "# Step 6: Min and Max\n",
        "min_val = data_sorted.min()\n",
        "max_val = data_sorted.max()\n",
        "\n",
        "# Final Output\n",
        "print(f\"Q1: {Q1}\")\n",
        "print(f\"Q3: {Q3}\")\n",
        "print(f\"IQR: {IQR}\")\n",
        "print(f\"Lower Limit: {lower_limit}\")\n",
        "print(f\"Upper Limit: {upper_limit}\")\n",
        "print(f\"Outliers: {outliers if outliers else 'None'}\")\n",
        "print(f\"Minimum: {min_val}\")\n",
        "print(f\"Maximum: {max_val}\")\n"
      ],
      "metadata": {
        "colab": {
          "base_uri": "https://localhost:8080/"
        },
        "id": "1PPb-6Tr0M1K",
        "outputId": "c3fa92ab-47ee-408f-ddf7-0d5e9d321902"
      },
      "execution_count": 8,
      "outputs": [
        {
          "output_type": "stream",
          "name": "stdout",
          "text": [
            "Q1: 31.0\n",
            "Q3: 64.0\n",
            "IQR: 33.0\n",
            "Lower Limit: -18.5\n",
            "Upper Limit: 113.5\n",
            "Outliers: [np.int64(130)]\n",
            "Minimum: 7\n",
            "Maximum: 130\n"
          ]
        }
      ]
    }
  ]
}