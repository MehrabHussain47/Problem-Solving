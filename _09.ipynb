{
  "cells": [
    {
      "cell_type": "markdown",
      "metadata": {
        "id": "view-in-github",
        "colab_type": "text"
      },
      "source": [
        "<a href=\"https://colab.research.google.com/github/MehrabHussain47/Problem-Solving/blob/master/_09.ipynb\" target=\"_parent\"><img src=\"https://colab.research.google.com/assets/colab-badge.svg\" alt=\"Open In Colab\"/></a>"
      ]
    },
    {
      "cell_type": "markdown",
      "metadata": {
        "id": "QIAanZvwOM8R"
      },
      "source": [
        "# NumPy Essentials Practice Exercises Overview:\n",
        "Time to test the knowledge on NumPy. Lets start with simple task and move on to more challenging ones!<br>\n",
        "**Good Luck**<br>\n",
        "\n",
        "&#9758; *Please note, there are several ways to get the required output, so your code could be different then what is provided in this notebook. <br>As long as you are getting the tasks done, it is fine at this stage. *"
      ]
    },
    {
      "cell_type": "markdown",
      "metadata": {
        "id": "8WpT-P8COfup"
      },
      "source": [
        "**1. What is the major difference between \"`Vector`\" and \"`Matrix`\"?**"
      ]
    },
    {
      "cell_type": "code",
      "execution_count": null,
      "metadata": {
        "colab": {
          "base_uri": "https://localhost:8080/"
        },
        "id": "a2nXik37OKQJ",
        "outputId": "9a24301b-a4b2-4859-b3ad-c3e235b68ddf"
      },
      "outputs": [
        {
          "name": "stdout",
          "output_type": "stream",
          "text": [
            "[1 2 3]\n",
            "(3,)\n",
            "[[1 2 3]\n",
            " [4 5 6]]\n",
            "(2, 3)\n"
          ]
        }
      ],
      "source": [
        "# To avoid overwriting the output, please code here\n",
        "import numpy as np\n",
        "# Vector is a 1d array.\n",
        "v = np.array([1,2,3])\n",
        "print(v)  # Print this vector.\n",
        "print(v.shape)  # It is a 1 row x 3 column matrix (1d array).\n",
        "# Matrix is a 2d array.\n",
        "m = np.array([[1,2,3],[4,5,6]])\n",
        "print(m)  # Print this matrix\n",
        "print(m.shape)  # It is a 2 row x 3 column matrix (2d array).\n",
        "# Basic difference of vector and matrix is: vector is a 1d array, matrix is a 2d array."
      ]
    },
    {
      "cell_type": "markdown",
      "metadata": {
        "id": "pyMboMdFSQFB"
      },
      "source": [
        "**2. How to import `NumPy` library?**"
      ]
    },
    {
      "cell_type": "code",
      "execution_count": null,
      "metadata": {
        "id": "6uFk6rGyPgka"
      },
      "outputs": [],
      "source": [
        "# To avoid overwriting the output, please code here"
      ]
    },
    {
      "cell_type": "code",
      "execution_count": 75,
      "metadata": {
        "id": "GkQ-AWB7SVEw"
      },
      "outputs": [],
      "source": [
        "import numpy as np"
      ]
    },
    {
      "cell_type": "markdown",
      "metadata": {
        "id": "R6IZpXESSiun"
      },
      "source": [
        "**3. Convert the given Python list into NumPy array and check its data type**\n",
        "\n",
        "(array([1, 2, 3, 4, 5]), numpy.ndarray)"
      ]
    },
    {
      "cell_type": "code",
      "execution_count": null,
      "metadata": {
        "id": "nGB09s2JShZA"
      },
      "outputs": [],
      "source": [
        "# To avoid overwriting the output, please code here"
      ]
    },
    {
      "cell_type": "code",
      "execution_count": null,
      "metadata": {
        "colab": {
          "base_uri": "https://localhost:8080/"
        },
        "id": "bIMJa346SqCw",
        "outputId": "53938f46-7118-4682-af0e-9f81119350ae"
      },
      "outputs": [
        {
          "name": "stdout",
          "output_type": "stream",
          "text": [
            "[1, 2, 3, 4, 5]\n",
            "[1 2 3 4 5]\n",
            "int64\n",
            "<class 'numpy.ndarray'>\n"
          ]
        }
      ],
      "source": [
        "my_list = [1,2,3,4,5]\n",
        "print(my_list)\n",
        "list_to_array = np.array(my_list)\n",
        "print(list_to_array)\n",
        "print(list_to_array.dtype)  # To know the type of numbers\n",
        "print(type(list_to_array))  # To know the array class"
      ]
    },
    {
      "cell_type": "markdown",
      "metadata": {
        "id": "Hw3S_-LmOHpy"
      },
      "source": [
        "**4. Generate `array [0,1,2,3,4,5]` using NumPy built-in function, `arange()`**\n",
        "\n",
        "array([0, 1, 2, 3, 4, 5])"
      ]
    },
    {
      "cell_type": "code",
      "execution_count": null,
      "metadata": {
        "id": "MxWTJuSnUPCo"
      },
      "outputs": [],
      "source": [
        "# To avoid overwriting the output, please code here"
      ]
    },
    {
      "cell_type": "code",
      "execution_count": null,
      "metadata": {
        "colab": {
          "base_uri": "https://localhost:8080/"
        },
        "id": "1TAl2sRdOYXL",
        "outputId": "8829ba17-744e-453f-c9aa-591ddde01c8d"
      },
      "outputs": [
        {
          "data": {
            "text/plain": [
              "array([0, 1, 2, 3, 4, 5])"
            ]
          },
          "execution_count": 8,
          "metadata": {},
          "output_type": "execute_result"
        }
      ],
      "source": [
        "np.arange(6)"
      ]
    },
    {
      "cell_type": "markdown",
      "metadata": {
        "id": "beLlyOPBQ1Ex"
      },
      "source": [
        "**5. Generate an `array of \"5\" zeros`**\n",
        "\n",
        "array([ 0.,  0.,  0.,  0.,  0.])"
      ]
    },
    {
      "cell_type": "code",
      "execution_count": null,
      "metadata": {
        "id": "FA_cj-BOR-7y"
      },
      "outputs": [],
      "source": [
        "# To avoid overwriting the output, please code here"
      ]
    },
    {
      "cell_type": "code",
      "execution_count": null,
      "metadata": {
        "colab": {
          "base_uri": "https://localhost:8080/"
        },
        "id": "TTKTkRh8Qj1O",
        "outputId": "9243deee-1a4a-43d5-a2cf-0b23690ab0de"
      },
      "outputs": [
        {
          "data": {
            "text/plain": [
              "array([0., 0., 0., 0., 0.])"
            ]
          },
          "execution_count": 9,
          "metadata": {},
          "output_type": "execute_result"
        }
      ],
      "source": [
        "np.zeros(5)"
      ]
    },
    {
      "cell_type": "markdown",
      "metadata": {
        "id": "FeX9QQDoRbya"
      },
      "source": [
        "**6. Generate the following `matrix`.**\n",
        "\n",
        "array([[ 0.,  0.,  0.,  0.],\n",
        "       [ 0.,  0.,  0.,  0.],\n",
        "       [ 0.,  0.,  0.,  0.]])"
      ]
    },
    {
      "cell_type": "code",
      "execution_count": null,
      "metadata": {
        "id": "qm5KV-cbSBq5"
      },
      "outputs": [],
      "source": [
        "# To avoid overwriting the output, please code here"
      ]
    },
    {
      "cell_type": "code",
      "execution_count": null,
      "metadata": {
        "colab": {
          "base_uri": "https://localhost:8080/"
        },
        "id": "hSVvgPwyRkx_",
        "outputId": "d89d5afa-3db7-49f3-9511-e0c7accabb40"
      },
      "outputs": [
        {
          "data": {
            "text/plain": [
              "array([[0., 0., 0., 0.],\n",
              "       [0., 0., 0., 0.],\n",
              "       [0., 0., 0., 0.]])"
            ]
          },
          "execution_count": 11,
          "metadata": {},
          "output_type": "execute_result"
        }
      ],
      "source": [
        "np.zeros([3,4])"
      ]
    },
    {
      "cell_type": "markdown",
      "metadata": {
        "id": "S74CyEyOSEPy"
      },
      "source": [
        "**7. Generate** `[1.,1.,1.,1.,1.]` **using NumPy built-in function?**\n",
        "\n",
        "[ 1.  1.  1.  1.  1.]"
      ]
    },
    {
      "cell_type": "code",
      "execution_count": null,
      "metadata": {
        "id": "678J3bTbR3HX"
      },
      "outputs": [],
      "source": [
        "# To avoid overwriting the output, please code here"
      ]
    },
    {
      "cell_type": "code",
      "execution_count": null,
      "metadata": {
        "colab": {
          "base_uri": "https://localhost:8080/"
        },
        "id": "q42Y2eMCSP84",
        "outputId": "eb4f15ee-c905-4348-8659-1bf1326ab59d"
      },
      "outputs": [
        {
          "data": {
            "text/plain": [
              "array([1., 1., 1., 1., 1.])"
            ]
          },
          "execution_count": 12,
          "metadata": {},
          "output_type": "execute_result"
        }
      ],
      "source": [
        "np.ones(5)"
      ]
    },
    {
      "cell_type": "markdown",
      "metadata": {
        "id": "66gxM84USY1K"
      },
      "source": [
        "**8. Generate an array of \"5\" tens.**\n",
        "\n",
        "array([10., 10., 10., 10., 10.])"
      ]
    },
    {
      "cell_type": "code",
      "execution_count": null,
      "metadata": {
        "id": "sT5hivykSS2W"
      },
      "outputs": [],
      "source": [
        "# To avoid overwriting the output, please code here"
      ]
    },
    {
      "cell_type": "code",
      "execution_count": null,
      "metadata": {
        "colab": {
          "base_uri": "https://localhost:8080/"
        },
        "id": "sOalBI_tSjFq",
        "outputId": "f449aacc-b8be-42ee-fca1-4deaa031e467"
      },
      "outputs": [
        {
          "data": {
            "text/plain": [
              "array([10., 10., 10., 10., 10.])"
            ]
          },
          "execution_count": 15,
          "metadata": {},
          "output_type": "execute_result"
        }
      ],
      "source": [
        "np.full(5, 10, dtype=float)"
      ]
    },
    {
      "cell_type": "markdown",
      "metadata": {
        "id": "Yysp-bT5TIlK"
      },
      "source": [
        "**9. Use `arange()` to generate an array of even numbers between 50 and 100.**<br>\n",
        "*50 and 100 are not included*\n",
        "\n",
        "array([52, 54, 56, 58, 60, 62, 64, 66, 68, 70, 72, 74, 76, 78, 80, 82, 84,\n",
        "       86, 88, 90, 92, 94, 96, 98])"
      ]
    },
    {
      "cell_type": "code",
      "execution_count": null,
      "metadata": {
        "id": "yRRrNgTnToX7"
      },
      "outputs": [],
      "source": [
        "# To avoid overwriting the output, please code here"
      ]
    },
    {
      "cell_type": "code",
      "execution_count": null,
      "metadata": {
        "colab": {
          "base_uri": "https://localhost:8080/"
        },
        "id": "GzyCpEl8SyIn",
        "outputId": "4dcc1871-aadd-4e3d-e584-678d42957f61"
      },
      "outputs": [
        {
          "data": {
            "text/plain": [
              "array([52, 54, 56, 58, 60, 62, 64, 66, 68, 70, 72, 74, 76, 78, 80, 82, 84,\n",
              "       86, 88, 90, 92, 94, 96, 98])"
            ]
          },
          "execution_count": 20,
          "metadata": {},
          "output_type": "execute_result"
        }
      ],
      "source": [
        "np.arange(52,100,2)"
      ]
    },
    {
      "cell_type": "markdown",
      "metadata": {
        "id": "j5q6ii13Tq2p"
      },
      "source": [
        "**10. Generate an array of 10 linearly spaced points between 0 and 1.**<br>\n",
        "**Output step size as well?**\n",
        "\n",
        "(array([ 0.        ,  0.11111111,  0.22222222,  0.33333333,  0.44444444,\n",
        "         0.55555556,  0.66666667,  0.77777778,  0.88888889,  1.        ]),\n",
        " 0.1111111111111111)"
      ]
    },
    {
      "cell_type": "code",
      "execution_count": null,
      "metadata": {
        "colab": {
          "base_uri": "https://localhost:8080/"
        },
        "id": "YiB1sYDTTegf",
        "outputId": "76499f37-5d43-493e-9c7d-1871b48c216f"
      },
      "outputs": [
        {
          "data": {
            "text/plain": [
              "(array([0.        , 0.11111111, 0.22222222, 0.33333333, 0.44444444,\n",
              "        0.55555556, 0.66666667, 0.77777778, 0.88888889, 1.        ]),\n",
              " np.float64(0.1111111111111111))"
            ]
          },
          "execution_count": 45,
          "metadata": {},
          "output_type": "execute_result"
        }
      ],
      "source": [
        "np.linspace(0,1,10, retstep=1)"
      ]
    },
    {
      "cell_type": "markdown",
      "metadata": {
        "id": "P2LalpZxVVPi"
      },
      "source": [
        "**11. Perform the following tasks:**\n",
        "* Generate a **`vector array of 25`** numbers using **`arange()`**\n",
        "* write a code to convert the vector array into **`2-D matrix using reshape`**\n",
        "* can we use **`shape`** instead of reshape as well?"
      ]
    },
    {
      "cell_type": "code",
      "execution_count": null,
      "metadata": {
        "id": "GgQ2ktmTUCH_"
      },
      "outputs": [],
      "source": [
        "# To avoid overwriting the output, please code here"
      ]
    },
    {
      "cell_type": "markdown",
      "metadata": {
        "id": "AzyfnXjKWNX5"
      },
      "source": [
        "array([ 0,  1,  2,  3,  4,  5,  6,  7,  8,  9, 10, 11, 12, 13, 14, 15, 16,\n",
        "       17, 18, 19, 20, 21, 22, 23, 24])"
      ]
    },
    {
      "cell_type": "code",
      "execution_count": null,
      "metadata": {
        "id": "aeGp9Hj7XsPC"
      },
      "outputs": [],
      "source": [
        "# Generating vector array"
      ]
    },
    {
      "cell_type": "code",
      "execution_count": null,
      "metadata": {
        "colab": {
          "base_uri": "https://localhost:8080/"
        },
        "id": "G50gAMazVacB",
        "outputId": "7de166f9-d59f-4ff2-a931-038cd2ba2c05"
      },
      "outputs": [
        {
          "data": {
            "text/plain": [
              "array([ 0,  1,  2,  3,  4,  5,  6,  7,  8,  9, 10, 11, 12, 13, 14, 15, 16,\n",
              "       17, 18, 19, 20, 21, 22, 23, 24])"
            ]
          },
          "execution_count": 3,
          "metadata": {},
          "output_type": "execute_result"
        }
      ],
      "source": [
        "v = np.arange(25)\n",
        "v"
      ]
    },
    {
      "cell_type": "markdown",
      "metadata": {
        "id": "wzkq3nLVZYKQ"
      },
      "source": [
        "array([[ 0,  1,  2,  3,  4],\n",
        "       [ 5,  6,  7,  8,  9],\n",
        "       [10, 11, 12, 13, 14],\n",
        "       [15, 16, 17, 18, 19],\n",
        "       [20, 21, 22, 23, 24]])"
      ]
    },
    {
      "cell_type": "code",
      "execution_count": null,
      "metadata": {
        "id": "3UFjCXFPXlUT"
      },
      "outputs": [],
      "source": [
        "# reshape to convert into 2-d"
      ]
    },
    {
      "cell_type": "code",
      "execution_count": null,
      "metadata": {
        "colab": {
          "base_uri": "https://localhost:8080/"
        },
        "id": "JdxbekBMWU8_",
        "outputId": "7aa2ce13-8975-4d62-cdb1-a3d119917257"
      },
      "outputs": [
        {
          "data": {
            "text/plain": [
              "array([[ 0,  1,  2,  3,  4],\n",
              "       [ 5,  6,  7,  8,  9],\n",
              "       [10, 11, 12, 13, 14],\n",
              "       [15, 16, 17, 18, 19],\n",
              "       [20, 21, 22, 23, 24]])"
            ]
          },
          "execution_count": 5,
          "metadata": {},
          "output_type": "execute_result"
        }
      ],
      "source": [
        "m = v.reshape(5,5)\n",
        "m"
      ]
    },
    {
      "cell_type": "markdown",
      "metadata": {
        "id": "E6ICKq29KMCE"
      },
      "source": [
        "array([[ 0,  1,  2,  3,  4],\n",
        "       [ 5,  6,  7,  8,  9],\n",
        "       [10, 11, 12, 13, 14],\n",
        "       [15, 16, 17, 18, 19],\n",
        "       [20, 21, 22, 23, 24]])"
      ]
    },
    {
      "cell_type": "code",
      "execution_count": null,
      "metadata": {
        "id": "v8ViaefUKKNU"
      },
      "outputs": [],
      "source": [
        "# Using shape"
      ]
    },
    {
      "cell_type": "code",
      "execution_count": null,
      "metadata": {
        "colab": {
          "base_uri": "https://localhost:8080/"
        },
        "id": "UGq6HgdmXXfH",
        "outputId": "fe1fa735-5951-4f4b-a9ef-10e3e28e885a"
      },
      "outputs": [
        {
          "data": {
            "text/plain": [
              "array([[ 0,  1,  2,  3,  4],\n",
              "       [ 5,  6,  7,  8,  9],\n",
              "       [10, 11, 12, 13, 14],\n",
              "       [15, 16, 17, 18, 19],\n",
              "       [20, 21, 22, 23, 24]])"
            ]
          },
          "execution_count": 8,
          "metadata": {},
          "output_type": "execute_result"
        }
      ],
      "source": [
        "v2 = np.arange(25)\n",
        "v2.shape = (5,5)\n",
        "v2"
      ]
    },
    {
      "cell_type": "markdown",
      "metadata": {
        "id": "g6wPoxF6KvDc"
      },
      "source": [
        "**12. Please generate the following matrix.**"
      ]
    },
    {
      "cell_type": "markdown",
      "metadata": {
        "id": "4HMRFn3_KzNz"
      },
      "source": [
        "array([[0.1, 0.2, 0.3, 0.4, 0.5],\n",
        "       [0.6, 0.7, 0.8, 0.9, 1. ],\n",
        "       [1.1, 1.2, 1.3, 1.4, 1.5],\n",
        "       [1.6, 1.7, 1.8, 1.9, 2. ],\n",
        "       [2.1, 2.2, 2.3, 2.4, 2.5]])"
      ]
    },
    {
      "cell_type": "code",
      "execution_count": null,
      "metadata": {
        "id": "tZ6ZU4E4YM_2"
      },
      "outputs": [],
      "source": [
        "# To avoid overwriting the output, please code here"
      ]
    },
    {
      "cell_type": "code",
      "execution_count": null,
      "metadata": {
        "colab": {
          "base_uri": "https://localhost:8080/"
        },
        "id": "BbzN-skjKyq1",
        "outputId": "2316a804-c595-4882-c9b2-3fdb18ab9d72"
      },
      "outputs": [
        {
          "data": {
            "text/plain": [
              "array([[0.1, 0.2, 0.3, 0.4, 0.5],\n",
              "       [0.6, 0.7, 0.8, 0.9, 1. ],\n",
              "       [1.1, 1.2, 1.3, 1.4, 1.5],\n",
              "       [1.6, 1.7, 1.8, 1.9, 2. ],\n",
              "       [2.1, 2.2, 2.3, 2.4, 2.5]])"
            ]
          },
          "execution_count": 14,
          "metadata": {},
          "output_type": "execute_result"
        }
      ],
      "source": [
        "m2 = np.arange(0.1,2.6,0.1)\n",
        "m2.shape = (5,5)\n",
        "m2"
      ]
    },
    {
      "cell_type": "markdown",
      "metadata": {
        "id": "zKrnzHHiOMP8"
      },
      "source": [
        "**13. Write a code to generate the output below, use \"`linspace()`\" and \"`print()`\"**"
      ]
    },
    {
      "cell_type": "markdown",
      "metadata": {
        "id": "MP2CxnpLOSWT"
      },
      "source": [
        "array([[ 0,  1,  2,  3,  4],\n",
        "       [ 5,  6,  7,  8,  9],\n",
        "       [10, 11, 12, 13, 14],\n",
        "       [15, 16, 17, 18, 19],\n",
        "       [20, 21, 22, 23, 24]])"
      ]
    },
    {
      "cell_type": "code",
      "execution_count": null,
      "metadata": {
        "id": "Jg7E_hKqNK3w"
      },
      "outputs": [],
      "source": [
        "# To avoid overwriting the output, please code here"
      ]
    },
    {
      "cell_type": "code",
      "execution_count": null,
      "metadata": {
        "colab": {
          "base_uri": "https://localhost:8080/"
        },
        "id": "n-8sJ-0iOXh8",
        "outputId": "cc489516-0d6b-49e6-8e12-652e802370f2"
      },
      "outputs": [
        {
          "name": "stdout",
          "output_type": "stream",
          "text": [
            "array([[ 0  1  2  3  4]\n",
            " [ 5  6  7  8  9]\n",
            " [10 11 12 13 14]\n",
            " [15 16 17 18 19]\n",
            " [20 21 22 23 24]])\n"
          ]
        }
      ],
      "source": [
        "m3 = np.linspace(0,24,25, dtype=int)\n",
        "m3.shape = (5,5)\n",
        "m3\n",
        "print(f\"array({m})\")"
      ]
    },
    {
      "cell_type": "markdown",
      "metadata": {
        "id": "oS2F7fpKQ3Od"
      },
      "source": [
        "**14. What is the main difference between `linspace()` and `arange()`?**"
      ]
    },
    {
      "cell_type": "markdown",
      "metadata": {
        "id": "d5CR8mlrRDOE"
      },
      "source": [
        "linspace(start, stop, num): Generates num equally spaced values between start and stop (inclusive of start).<br>\n",
        "arange(start, stop, step): Generates values from start to stop with a specified step size, but the stop value is not included.<br>\n",
        "arange() takes a step size as the third argument, while linspace() takes the number of points.<br>\n",
        "In summary, linspace() focuses on the number of elements, while arange() focuses on the step size between elements."
      ]
    },
    {
      "cell_type": "markdown",
      "metadata": {
        "id": "KGiphy-aRUfL"
      },
      "source": [
        "**15. How to generate a single random integer number using NumPy built-in function?**"
      ]
    },
    {
      "cell_type": "markdown",
      "metadata": {
        "id": "CKzk2NsFRYEU"
      },
      "source": [
        "211"
      ]
    },
    {
      "cell_type": "code",
      "execution_count": 76,
      "metadata": {
        "colab": {
          "base_uri": "https://localhost:8080/"
        },
        "id": "G4H3HiGoOuKo",
        "outputId": "387feb3d-f274-4a15-9fbc-7f5e1d39207a"
      },
      "outputs": [
        {
          "output_type": "stream",
          "name": "stdout",
          "text": [
            "211\n"
          ]
        }
      ],
      "source": [
        "# To avoid overwriting the output, please code here\n",
        "\n",
        "rand_num2 = np.random.choice([211]) # doesn't support randint because it will gneerate in between 0 to 211\n",
        "# must have to [] outside the number otherwise it will generate random\n",
        "print(rand_num2)"
      ]
    },
    {
      "cell_type": "markdown",
      "source": [
        "**16. Write a code to generate a 7x5 matrix of 35 random numbers? use rand here** <br>\n",
        "*Notice, there are no ( ) in the output matrix!*"
      ],
      "metadata": {
        "id": "Pb86ZplrXwym"
      }
    },
    {
      "cell_type": "markdown",
      "source": [
        "[[ 0.99598801  0.07546767  0.17484793  0.25229956  0.4693597 ]\n",
        ", [ 0.5591561   0.5007227   0.93630239  0.48747691  0.78658124]\n",
        ", [ 0.98923838  0.04124599  0.71326198  0.51252888  0.36130539]\n",
        ", [ 0.11558779  0.52914213  0.31134907  0.8047612   0.25759207]\n",
        ", [ 0.87331331  0.77104413  0.960445    0.1732589   0.83339285]\n",
        ", [ 0.99839604  0.78268012  0.66487603  0.14509928  0.05670129]\n",
        ", [ 0.15932364  0.848172    0.51343887  0.06309231  0.29250649]]"
      ],
      "metadata": {
        "id": "XatJ8lbnX5iF"
      }
    },
    {
      "cell_type": "code",
      "execution_count": 77,
      "metadata": {
        "id": "o1vkR-A2VN3X"
      },
      "outputs": [],
      "source": [
        "# To avoid overwriting the output, please code here"
      ]
    },
    {
      "cell_type": "code",
      "execution_count": 84,
      "metadata": {
        "id": "HisbE89TXOcw",
        "colab": {
          "base_uri": "https://localhost:8080/"
        },
        "outputId": "eb0267f0-14c1-44d1-c4ba-c416876e100b"
      },
      "outputs": [
        {
          "output_type": "stream",
          "name": "stdout",
          "text": [
            "[[0.19434222 0.77332601 0.97425866 0.86230978 0.78042665]\n",
            " [0.98503228 0.75356961 0.00404811 0.26947943 0.41049214]\n",
            " [0.42822383 0.29784182 0.40113234 0.12065699 0.98069967]\n",
            " [0.40612049 0.56921076 0.3436055  0.78887278 0.41137241]\n",
            " [0.35927142 0.39949891 0.30183088 0.77521978 0.92621293]\n",
            " [0.32531031 0.95287067 0.0139484  0.53346568 0.30458203]\n",
            " [0.88286    0.25062272 0.67741183 0.81042409 0.43214805]]\n"
          ]
        }
      ],
      "source": [
        "matrix = np.random.rand(7,5)\n",
        "print(matrix)"
      ]
    },
    {
      "cell_type": "markdown",
      "source": [
        "**17. Generate the following matrix using NumPy's built-in method for identity matrix.**"
      ],
      "metadata": {
        "id": "EFVY2nUrZWFt"
      }
    },
    {
      "cell_type": "markdown",
      "source": [
        "array([[5., 0., 0., 0., 0.],\n",
        "       [0., 5., 0., 0., 0.],\n",
        "       [0., 0., 5., 0., 0.],\n",
        "       [0., 0., 0., 5., 0.],\n",
        "       [0., 0., 0., 0., 5.]])"
      ],
      "metadata": {
        "id": "t8LlsliJZcwO"
      }
    },
    {
      "cell_type": "code",
      "source": [
        "# To avoid overwriting the output, please code here"
      ],
      "metadata": {
        "id": "5gri-dJzYk1m"
      },
      "execution_count": null,
      "outputs": []
    },
    {
      "cell_type": "code",
      "source": [
        "matrix = 5 * np.eye(5)\n",
        "matrix"
      ],
      "metadata": {
        "colab": {
          "base_uri": "https://localhost:8080/"
        },
        "id": "G7IMv4nnZlIE",
        "outputId": "367400ec-aa3d-4e25-c657-422335f544a9"
      },
      "execution_count": 89,
      "outputs": [
        {
          "output_type": "execute_result",
          "data": {
            "text/plain": [
              "array([[5., 0., 0., 0., 0.],\n",
              "       [0., 5., 0., 0., 0.],\n",
              "       [0., 0., 5., 0., 0.],\n",
              "       [0., 0., 0., 5., 0.],\n",
              "       [0., 0., 0., 0., 5.]])"
            ]
          },
          "metadata": {},
          "execution_count": 89
        }
      ]
    }
  ],
  "metadata": {
    "colab": {
      "provenance": [],
      "authorship_tag": "ABX9TyPi3+VdRwFW7bbsmR06mL0V",
      "include_colab_link": true
    },
    "kernelspec": {
      "display_name": "Python 3",
      "name": "python3"
    },
    "language_info": {
      "name": "python"
    }
  },
  "nbformat": 4,
  "nbformat_minor": 0
}