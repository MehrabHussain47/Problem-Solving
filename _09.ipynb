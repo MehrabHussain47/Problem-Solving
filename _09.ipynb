{
  "nbformat": 4,
  "nbformat_minor": 0,
  "metadata": {
    "colab": {
      "provenance": [],
      "authorship_tag": "ABX9TyMQowglv+3x4/p0wOtFujIh",
      "include_colab_link": true
    },
    "kernelspec": {
      "name": "python3",
      "display_name": "Python 3"
    },
    "language_info": {
      "name": "python"
    }
  },
  "cells": [
    {
      "cell_type": "markdown",
      "metadata": {
        "id": "view-in-github",
        "colab_type": "text"
      },
      "source": [
        "<a href=\"https://colab.research.google.com/github/MehrabHussain47/Problem-Solving/blob/master/_09.ipynb\" target=\"_parent\"><img src=\"https://colab.research.google.com/assets/colab-badge.svg\" alt=\"Open In Colab\"/></a>"
      ]
    },
    {
      "cell_type": "markdown",
      "source": [
        "# NumPy Essentials Practice Exercises Overview:\n",
        "Time to test the knowledge on NumPy. Lets start with simple task and move on to more challenging ones!<br>\n",
        "**Good Luck**<br>\n",
        "\n",
        "&#9758; *Please note, there are several ways to get the required output, so your code could be different then what is provided in this notebook. <br>As long as you are getting the tasks done, it is fine at this stage. *"
      ],
      "metadata": {
        "id": "QIAanZvwOM8R"
      }
    },
    {
      "cell_type": "markdown",
      "source": [
        "**1. What is the major difference between \"`Vector`\" and \"`Matrix`\"?**"
      ],
      "metadata": {
        "id": "8WpT-P8COfup"
      }
    },
    {
      "cell_type": "code",
      "execution_count": 12,
      "metadata": {
        "colab": {
          "base_uri": "https://localhost:8080/"
        },
        "id": "a2nXik37OKQJ",
        "outputId": "d97d86dc-049c-4ca8-97cd-a7eceda1c887"
      },
      "outputs": [
        {
          "output_type": "stream",
          "name": "stdout",
          "text": [
            "[1 2 3]\n",
            "(3,)\n",
            "[[1 2 3]\n",
            " [4 5 6]]\n",
            "(2, 3)\n"
          ]
        }
      ],
      "source": [
        "# To avoid overwriting the output, please code here\n",
        "import numpy as np\n",
        "# Vector is a 1d array.\n",
        "v = np.array([1,2,3])\n",
        "print(v)  # Print this vector.\n",
        "print(v.shape)  # It is a 1 row x 3 column matrix (1d array).\n",
        "# Matrix is a 2d array.\n",
        "m = np.array([[1,2,3],[4,5,6]])\n",
        "print(m)  # Print this matrix\n",
        "print(m.shape)  # It is a 2 row x 3 column matrix (2d array).\n",
        "# Basic difference of vector and matrix is: vector is a 1d array, matrix is a 2d array."
      ]
    },
    {
      "cell_type": "markdown",
      "source": [
        "**2. How to import `NumPy` library?**"
      ],
      "metadata": {
        "id": "pyMboMdFSQFB"
      }
    },
    {
      "cell_type": "code",
      "source": [
        "# To avoid overwriting the output, please code here"
      ],
      "metadata": {
        "id": "6uFk6rGyPgka"
      },
      "execution_count": null,
      "outputs": []
    },
    {
      "cell_type": "code",
      "source": [
        "import numpy as np"
      ],
      "metadata": {
        "id": "GkQ-AWB7SVEw"
      },
      "execution_count": 1,
      "outputs": []
    },
    {
      "cell_type": "markdown",
      "source": [
        "**3. Convert the given Python list into NumPy array and check its data type**\n",
        "\n",
        "(array([1, 2, 3, 4, 5]), numpy.ndarray)"
      ],
      "metadata": {
        "id": "R6IZpXESSiun"
      }
    },
    {
      "cell_type": "code",
      "source": [
        "# To avoid overwriting the output, please code here"
      ],
      "metadata": {
        "id": "nGB09s2JShZA"
      },
      "execution_count": null,
      "outputs": []
    },
    {
      "cell_type": "code",
      "source": [
        "my_list = [1,2,3,4,5]\n",
        "print(my_list)\n",
        "list_to_array = np.array(my_list)\n",
        "print(list_to_array)\n",
        "print(list_to_array.dtype)  # To know the type of numbers\n",
        "print(type(list_to_array))  # To know the array class"
      ],
      "metadata": {
        "colab": {
          "base_uri": "https://localhost:8080/"
        },
        "id": "bIMJa346SqCw",
        "outputId": "bf19fc72-a581-4baa-cf87-d7f2add0e5f4"
      },
      "execution_count": 3,
      "outputs": [
        {
          "output_type": "stream",
          "name": "stdout",
          "text": [
            "[1, 2, 3, 4, 5]\n",
            "[1 2 3 4 5]\n",
            "int64\n",
            "<class 'numpy.ndarray'>\n"
          ]
        }
      ]
    },
    {
      "cell_type": "code",
      "source": [],
      "metadata": {
        "id": "MxWTJuSnUPCo"
      },
      "execution_count": null,
      "outputs": []
    }
  ]
}