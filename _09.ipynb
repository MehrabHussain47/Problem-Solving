{
  "nbformat": 4,
  "nbformat_minor": 0,
  "metadata": {
    "colab": {
      "provenance": [],
      "authorship_tag": "ABX9TyOBwRdTtmdZqB+YsHrccZXv",
      "include_colab_link": true
    },
    "kernelspec": {
      "name": "python3",
      "display_name": "Python 3"
    },
    "language_info": {
      "name": "python"
    }
  },
  "cells": [
    {
      "cell_type": "markdown",
      "metadata": {
        "id": "view-in-github",
        "colab_type": "text"
      },
      "source": [
        "<a href=\"https://colab.research.google.com/github/MehrabHussain47/Problem-Solving/blob/master/_09.ipynb\" target=\"_parent\"><img src=\"https://colab.research.google.com/assets/colab-badge.svg\" alt=\"Open In Colab\"/></a>"
      ]
    },
    {
      "cell_type": "markdown",
      "source": [
        "# NumPy Essentials Practice Exercises Overview:\n",
        "Time to test the knowledge on NumPy. Lets start with simple task and move on to more challenging ones!<br>\n",
        "**Good Luck**<br>\n",
        "\n",
        "&#9758; *Please note, there are several ways to get the required output, so your code could be different then what is provided in this notebook. <br>As long as you are getting the tasks done, it is fine at this stage. *"
      ],
      "metadata": {
        "id": "QIAanZvwOM8R"
      }
    },
    {
      "cell_type": "markdown",
      "source": [
        "**1. What is the major difference between \"`Vector`\" and \"`Matrix`\"?**"
      ],
      "metadata": {
        "id": "8WpT-P8COfup"
      }
    },
    {
      "cell_type": "code",
      "execution_count": 5,
      "metadata": {
        "colab": {
          "base_uri": "https://localhost:8080/"
        },
        "id": "a2nXik37OKQJ",
        "outputId": "9a24301b-a4b2-4859-b3ad-c3e235b68ddf"
      },
      "outputs": [
        {
          "output_type": "stream",
          "name": "stdout",
          "text": [
            "[1 2 3]\n",
            "(3,)\n",
            "[[1 2 3]\n",
            " [4 5 6]]\n",
            "(2, 3)\n"
          ]
        }
      ],
      "source": [
        "# To avoid overwriting the output, please code here\n",
        "import numpy as np\n",
        "# Vector is a 1d array.\n",
        "v = np.array([1,2,3])\n",
        "print(v)  # Print this vector.\n",
        "print(v.shape)  # It is a 1 row x 3 column matrix (1d array).\n",
        "# Matrix is a 2d array.\n",
        "m = np.array([[1,2,3],[4,5,6]])\n",
        "print(m)  # Print this matrix\n",
        "print(m.shape)  # It is a 2 row x 3 column matrix (2d array).\n",
        "# Basic difference of vector and matrix is: vector is a 1d array, matrix is a 2d array."
      ]
    },
    {
      "cell_type": "markdown",
      "source": [
        "**2. How to import `NumPy` library?**"
      ],
      "metadata": {
        "id": "pyMboMdFSQFB"
      }
    },
    {
      "cell_type": "code",
      "source": [
        "# To avoid overwriting the output, please code here"
      ],
      "metadata": {
        "id": "6uFk6rGyPgka"
      },
      "execution_count": null,
      "outputs": []
    },
    {
      "cell_type": "code",
      "source": [
        "import numpy as np"
      ],
      "metadata": {
        "id": "GkQ-AWB7SVEw"
      },
      "execution_count": 1,
      "outputs": []
    },
    {
      "cell_type": "markdown",
      "source": [
        "**3. Convert the given Python list into NumPy array and check its data type**\n",
        "\n",
        "(array([1, 2, 3, 4, 5]), numpy.ndarray)"
      ],
      "metadata": {
        "id": "R6IZpXESSiun"
      }
    },
    {
      "cell_type": "code",
      "source": [
        "# To avoid overwriting the output, please code here"
      ],
      "metadata": {
        "id": "nGB09s2JShZA"
      },
      "execution_count": null,
      "outputs": []
    },
    {
      "cell_type": "code",
      "source": [
        "my_list = [1,2,3,4,5]\n",
        "print(my_list)\n",
        "list_to_array = np.array(my_list)\n",
        "print(list_to_array)\n",
        "print(list_to_array.dtype)  # To know the type of numbers\n",
        "print(type(list_to_array))  # To know the array class"
      ],
      "metadata": {
        "colab": {
          "base_uri": "https://localhost:8080/"
        },
        "id": "bIMJa346SqCw",
        "outputId": "53938f46-7118-4682-af0e-9f81119350ae"
      },
      "execution_count": 7,
      "outputs": [
        {
          "output_type": "stream",
          "name": "stdout",
          "text": [
            "[1, 2, 3, 4, 5]\n",
            "[1 2 3 4 5]\n",
            "int64\n",
            "<class 'numpy.ndarray'>\n"
          ]
        }
      ]
    },
    {
      "cell_type": "markdown",
      "source": [
        "**4. Generate `array [0,1,2,3,4,5]` using NumPy built-in function, `arange()`**\n",
        "\n",
        "array([0, 1, 2, 3, 4, 5])"
      ],
      "metadata": {
        "id": "Hw3S_-LmOHpy"
      }
    },
    {
      "cell_type": "code",
      "source": [
        "# To avoid overwriting the output, please code here"
      ],
      "metadata": {
        "id": "MxWTJuSnUPCo"
      },
      "execution_count": null,
      "outputs": []
    },
    {
      "cell_type": "code",
      "source": [
        "np.arange(6)"
      ],
      "metadata": {
        "colab": {
          "base_uri": "https://localhost:8080/"
        },
        "id": "1TAl2sRdOYXL",
        "outputId": "8829ba17-744e-453f-c9aa-591ddde01c8d"
      },
      "execution_count": 8,
      "outputs": [
        {
          "output_type": "execute_result",
          "data": {
            "text/plain": [
              "array([0, 1, 2, 3, 4, 5])"
            ]
          },
          "metadata": {},
          "execution_count": 8
        }
      ]
    },
    {
      "cell_type": "markdown",
      "source": [
        "**5. Generate an `array of \"5\" zeros`**\n",
        "\n",
        "array([ 0.,  0.,  0.,  0.,  0.])"
      ],
      "metadata": {
        "id": "beLlyOPBQ1Ex"
      }
    },
    {
      "cell_type": "code",
      "source": [
        "# To avoid overwriting the output, please code here"
      ],
      "metadata": {
        "id": "FA_cj-BOR-7y"
      },
      "execution_count": null,
      "outputs": []
    },
    {
      "cell_type": "code",
      "source": [
        "np.zeros(5)"
      ],
      "metadata": {
        "colab": {
          "base_uri": "https://localhost:8080/"
        },
        "id": "TTKTkRh8Qj1O",
        "outputId": "9243deee-1a4a-43d5-a2cf-0b23690ab0de"
      },
      "execution_count": 9,
      "outputs": [
        {
          "output_type": "execute_result",
          "data": {
            "text/plain": [
              "array([0., 0., 0., 0., 0.])"
            ]
          },
          "metadata": {},
          "execution_count": 9
        }
      ]
    },
    {
      "cell_type": "markdown",
      "source": [
        "**6. Generate the following `matrix`.**\n",
        "\n",
        "array([[ 0.,  0.,  0.,  0.],\n",
        "       [ 0.,  0.,  0.,  0.],\n",
        "       [ 0.,  0.,  0.,  0.]])"
      ],
      "metadata": {
        "id": "FeX9QQDoRbya"
      }
    },
    {
      "cell_type": "code",
      "source": [
        "# To avoid overwriting the output, please code here"
      ],
      "metadata": {
        "id": "qm5KV-cbSBq5"
      },
      "execution_count": null,
      "outputs": []
    },
    {
      "cell_type": "code",
      "source": [
        "np.zeros([3,4])"
      ],
      "metadata": {
        "colab": {
          "base_uri": "https://localhost:8080/"
        },
        "id": "hSVvgPwyRkx_",
        "outputId": "d89d5afa-3db7-49f3-9511-e0c7accabb40"
      },
      "execution_count": 11,
      "outputs": [
        {
          "output_type": "execute_result",
          "data": {
            "text/plain": [
              "array([[0., 0., 0., 0.],\n",
              "       [0., 0., 0., 0.],\n",
              "       [0., 0., 0., 0.]])"
            ]
          },
          "metadata": {},
          "execution_count": 11
        }
      ]
    },
    {
      "cell_type": "markdown",
      "source": [
        "**7. Generate** `[1.,1.,1.,1.,1.]` **using NumPy built-in function?**\n",
        "\n",
        "[ 1.  1.  1.  1.  1.]"
      ],
      "metadata": {
        "id": "S74CyEyOSEPy"
      }
    },
    {
      "cell_type": "code",
      "source": [
        "# To avoid overwriting the output, please code here"
      ],
      "metadata": {
        "id": "678J3bTbR3HX"
      },
      "execution_count": null,
      "outputs": []
    },
    {
      "cell_type": "code",
      "source": [
        "np.ones(5)"
      ],
      "metadata": {
        "colab": {
          "base_uri": "https://localhost:8080/"
        },
        "id": "q42Y2eMCSP84",
        "outputId": "eb4f15ee-c905-4348-8659-1bf1326ab59d"
      },
      "execution_count": 12,
      "outputs": [
        {
          "output_type": "execute_result",
          "data": {
            "text/plain": [
              "array([1., 1., 1., 1., 1.])"
            ]
          },
          "metadata": {},
          "execution_count": 12
        }
      ]
    },
    {
      "cell_type": "markdown",
      "source": [
        "**8. Generate an array of \"5\" tens.**\n",
        "\n",
        "array([10., 10., 10., 10., 10.])"
      ],
      "metadata": {
        "id": "66gxM84USY1K"
      }
    },
    {
      "cell_type": "code",
      "source": [
        "# To avoid overwriting the output, please code here"
      ],
      "metadata": {
        "id": "sT5hivykSS2W"
      },
      "execution_count": null,
      "outputs": []
    },
    {
      "cell_type": "code",
      "source": [
        "np.full(5, 10, dtype=float)"
      ],
      "metadata": {
        "colab": {
          "base_uri": "https://localhost:8080/"
        },
        "id": "sOalBI_tSjFq",
        "outputId": "f449aacc-b8be-42ee-fca1-4deaa031e467"
      },
      "execution_count": 15,
      "outputs": [
        {
          "output_type": "execute_result",
          "data": {
            "text/plain": [
              "array([10., 10., 10., 10., 10.])"
            ]
          },
          "metadata": {},
          "execution_count": 15
        }
      ]
    },
    {
      "cell_type": "markdown",
      "source": [
        "**9. Use `arange()` to generate an array of even numbers between 50 and 100.**<br>\n",
        "*50 and 100 are not included*\n",
        "\n",
        "array([52, 54, 56, 58, 60, 62, 64, 66, 68, 70, 72, 74, 76, 78, 80, 82, 84,\n",
        "       86, 88, 90, 92, 94, 96, 98])"
      ],
      "metadata": {
        "id": "Yysp-bT5TIlK"
      }
    },
    {
      "cell_type": "code",
      "source": [
        "# To avoid overwriting the output, please code here"
      ],
      "metadata": {
        "id": "yRRrNgTnToX7"
      },
      "execution_count": null,
      "outputs": []
    },
    {
      "cell_type": "code",
      "source": [
        "np.arange(52,100,2)"
      ],
      "metadata": {
        "colab": {
          "base_uri": "https://localhost:8080/"
        },
        "id": "GzyCpEl8SyIn",
        "outputId": "4dcc1871-aadd-4e3d-e584-678d42957f61"
      },
      "execution_count": 20,
      "outputs": [
        {
          "output_type": "execute_result",
          "data": {
            "text/plain": [
              "array([52, 54, 56, 58, 60, 62, 64, 66, 68, 70, 72, 74, 76, 78, 80, 82, 84,\n",
              "       86, 88, 90, 92, 94, 96, 98])"
            ]
          },
          "metadata": {},
          "execution_count": 20
        }
      ]
    },
    {
      "cell_type": "markdown",
      "source": [
        "**10. Generate an array of 10 linearly spaced points between 0 and 1.**<br>\n",
        "**Output step size as well?**\n",
        "\n",
        "(array([ 0.        ,  0.11111111,  0.22222222,  0.33333333,  0.44444444,\n",
        "         0.55555556,  0.66666667,  0.77777778,  0.88888889,  1.        ]),\n",
        " 0.1111111111111111)"
      ],
      "metadata": {
        "id": "j5q6ii13Tq2p"
      }
    },
    {
      "cell_type": "code",
      "source": [
        "np.linspace(0,1,10, retstep=1)"
      ],
      "metadata": {
        "colab": {
          "base_uri": "https://localhost:8080/"
        },
        "id": "YiB1sYDTTegf",
        "outputId": "76499f37-5d43-493e-9c7d-1871b48c216f"
      },
      "execution_count": 45,
      "outputs": [
        {
          "output_type": "execute_result",
          "data": {
            "text/plain": [
              "(array([0.        , 0.11111111, 0.22222222, 0.33333333, 0.44444444,\n",
              "        0.55555556, 0.66666667, 0.77777778, 0.88888889, 1.        ]),\n",
              " np.float64(0.1111111111111111))"
            ]
          },
          "metadata": {},
          "execution_count": 45
        }
      ]
    },
    {
      "cell_type": "markdown",
      "source": [
        "**11. Perform the following tasks:**\n",
        "* Generate a **`vector array of 25`** numbers using **`arange()`**\n",
        "* write a code to convert the vector array into **`2-D matrix using reshape`**\n",
        "* can we use **`shape`** instead of reshape as well?"
      ],
      "metadata": {
        "id": "P2LalpZxVVPi"
      }
    },
    {
      "cell_type": "code",
      "source": [
        "# To avoid overwriting the output, please code here"
      ],
      "metadata": {
        "id": "GgQ2ktmTUCH_"
      },
      "execution_count": null,
      "outputs": []
    },
    {
      "cell_type": "markdown",
      "source": [
        "array([ 0,  1,  2,  3,  4,  5,  6,  7,  8,  9, 10, 11, 12, 13, 14, 15, 16,\n",
        "       17, 18, 19, 20, 21, 22, 23, 24])"
      ],
      "metadata": {
        "id": "AzyfnXjKWNX5"
      }
    },
    {
      "cell_type": "code",
      "source": [
        "# Generating vector array"
      ],
      "metadata": {
        "id": "aeGp9Hj7XsPC"
      },
      "execution_count": null,
      "outputs": []
    },
    {
      "cell_type": "code",
      "source": [
        "v = np.arange(25)\n",
        "v"
      ],
      "metadata": {
        "colab": {
          "base_uri": "https://localhost:8080/"
        },
        "id": "G50gAMazVacB",
        "outputId": "7de166f9-d59f-4ff2-a931-038cd2ba2c05"
      },
      "execution_count": 3,
      "outputs": [
        {
          "output_type": "execute_result",
          "data": {
            "text/plain": [
              "array([ 0,  1,  2,  3,  4,  5,  6,  7,  8,  9, 10, 11, 12, 13, 14, 15, 16,\n",
              "       17, 18, 19, 20, 21, 22, 23, 24])"
            ]
          },
          "metadata": {},
          "execution_count": 3
        }
      ]
    },
    {
      "cell_type": "markdown",
      "source": [
        "array([[ 0,  1,  2,  3,  4],\n",
        "       [ 5,  6,  7,  8,  9],\n",
        "       [10, 11, 12, 13, 14],\n",
        "       [15, 16, 17, 18, 19],\n",
        "       [20, 21, 22, 23, 24]])"
      ],
      "metadata": {
        "id": "wzkq3nLVZYKQ"
      }
    },
    {
      "cell_type": "code",
      "source": [
        "# reshape to convert into 2-d"
      ],
      "metadata": {
        "id": "3UFjCXFPXlUT"
      },
      "execution_count": null,
      "outputs": []
    },
    {
      "cell_type": "code",
      "source": [
        "m = v.reshape(5,5)\n",
        "m"
      ],
      "metadata": {
        "colab": {
          "base_uri": "https://localhost:8080/"
        },
        "id": "JdxbekBMWU8_",
        "outputId": "7aa2ce13-8975-4d62-cdb1-a3d119917257"
      },
      "execution_count": 5,
      "outputs": [
        {
          "output_type": "execute_result",
          "data": {
            "text/plain": [
              "array([[ 0,  1,  2,  3,  4],\n",
              "       [ 5,  6,  7,  8,  9],\n",
              "       [10, 11, 12, 13, 14],\n",
              "       [15, 16, 17, 18, 19],\n",
              "       [20, 21, 22, 23, 24]])"
            ]
          },
          "metadata": {},
          "execution_count": 5
        }
      ]
    },
    {
      "cell_type": "markdown",
      "source": [
        "array([[ 0,  1,  2,  3,  4],\n",
        "       [ 5,  6,  7,  8,  9],\n",
        "       [10, 11, 12, 13, 14],\n",
        "       [15, 16, 17, 18, 19],\n",
        "       [20, 21, 22, 23, 24]])"
      ],
      "metadata": {
        "id": "E6ICKq29KMCE"
      }
    },
    {
      "cell_type": "code",
      "source": [
        "# Using shape"
      ],
      "metadata": {
        "id": "v8ViaefUKKNU"
      },
      "execution_count": null,
      "outputs": []
    },
    {
      "cell_type": "code",
      "source": [
        "v2 = np.arange(25)\n",
        "v2.shape = (5,5)\n",
        "v2"
      ],
      "metadata": {
        "colab": {
          "base_uri": "https://localhost:8080/"
        },
        "id": "UGq6HgdmXXfH",
        "outputId": "fe1fa735-5951-4f4b-a9ef-10e3e28e885a"
      },
      "execution_count": 8,
      "outputs": [
        {
          "output_type": "execute_result",
          "data": {
            "text/plain": [
              "array([[ 0,  1,  2,  3,  4],\n",
              "       [ 5,  6,  7,  8,  9],\n",
              "       [10, 11, 12, 13, 14],\n",
              "       [15, 16, 17, 18, 19],\n",
              "       [20, 21, 22, 23, 24]])"
            ]
          },
          "metadata": {},
          "execution_count": 8
        }
      ]
    },
    {
      "cell_type": "markdown",
      "source": [
        "**12. Please generate the following matrix.**"
      ],
      "metadata": {
        "id": "g6wPoxF6KvDc"
      }
    },
    {
      "cell_type": "markdown",
      "source": [
        "array([[0.1, 0.2, 0.3, 0.4, 0.5],\n",
        "       [0.6, 0.7, 0.8, 0.9, 1. ],\n",
        "       [1.1, 1.2, 1.3, 1.4, 1.5],\n",
        "       [1.6, 1.7, 1.8, 1.9, 2. ],\n",
        "       [2.1, 2.2, 2.3, 2.4, 2.5]])"
      ],
      "metadata": {
        "id": "4HMRFn3_KzNz"
      }
    },
    {
      "cell_type": "code",
      "source": [
        "# To avoid overwriting the output, please code here"
      ],
      "metadata": {
        "id": "tZ6ZU4E4YM_2"
      },
      "execution_count": null,
      "outputs": []
    },
    {
      "cell_type": "code",
      "source": [
        "m2 = np.arange(0.1,2.6,0.1)\n",
        "m2.shape = (5,5)\n",
        "m2"
      ],
      "metadata": {
        "colab": {
          "base_uri": "https://localhost:8080/"
        },
        "id": "BbzN-skjKyq1",
        "outputId": "2316a804-c595-4882-c9b2-3fdb18ab9d72"
      },
      "execution_count": 14,
      "outputs": [
        {
          "output_type": "execute_result",
          "data": {
            "text/plain": [
              "array([[0.1, 0.2, 0.3, 0.4, 0.5],\n",
              "       [0.6, 0.7, 0.8, 0.9, 1. ],\n",
              "       [1.1, 1.2, 1.3, 1.4, 1.5],\n",
              "       [1.6, 1.7, 1.8, 1.9, 2. ],\n",
              "       [2.1, 2.2, 2.3, 2.4, 2.5]])"
            ]
          },
          "metadata": {},
          "execution_count": 14
        }
      ]
    },
    {
      "cell_type": "markdown",
      "source": [
        "**13. Write a code to generate the output below, use \"`linspace()`\" and \"`print()`\"**"
      ],
      "metadata": {
        "id": "zKrnzHHiOMP8"
      }
    },
    {
      "cell_type": "markdown",
      "source": [
        "array([[ 0,  1,  2,  3,  4],\n",
        "       [ 5,  6,  7,  8,  9],\n",
        "       [10, 11, 12, 13, 14],\n",
        "       [15, 16, 17, 18, 19],\n",
        "       [20, 21, 22, 23, 24]])"
      ],
      "metadata": {
        "id": "MP2CxnpLOSWT"
      }
    },
    {
      "cell_type": "code",
      "source": [
        "# To avoid overwriting the output, please code here"
      ],
      "metadata": {
        "id": "Jg7E_hKqNK3w"
      },
      "execution_count": null,
      "outputs": []
    },
    {
      "cell_type": "code",
      "source": [
        "m3 = np.linspace(0,24,25, dtype=int)\n",
        "m3.shape = (5,5)\n",
        "m3\n",
        "print(f\"array({m})\")"
      ],
      "metadata": {
        "colab": {
          "base_uri": "https://localhost:8080/"
        },
        "id": "n-8sJ-0iOXh8",
        "outputId": "cc489516-0d6b-49e6-8e12-652e802370f2"
      },
      "execution_count": 27,
      "outputs": [
        {
          "output_type": "stream",
          "name": "stdout",
          "text": [
            "array([[ 0  1  2  3  4]\n",
            " [ 5  6  7  8  9]\n",
            " [10 11 12 13 14]\n",
            " [15 16 17 18 19]\n",
            " [20 21 22 23 24]])\n"
          ]
        }
      ]
    },
    {
      "cell_type": "code",
      "source": [],
      "metadata": {
        "id": "G4H3HiGoOuKo"
      },
      "execution_count": null,
      "outputs": []
    }
  ]
}