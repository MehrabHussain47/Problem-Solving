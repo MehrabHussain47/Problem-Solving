{
  "nbformat": 4,
  "nbformat_minor": 0,
  "metadata": {
    "colab": {
      "provenance": [],
      "authorship_tag": "ABX9TyOaFMj5GdIkVlppNNdrarO5",
      "include_colab_link": true
    },
    "kernelspec": {
      "name": "python3",
      "display_name": "Python 3"
    },
    "language_info": {
      "name": "python"
    }
  },
  "cells": [
    {
      "cell_type": "markdown",
      "metadata": {
        "id": "view-in-github",
        "colab_type": "text"
      },
      "source": [
        "<a href=\"https://colab.research.google.com/github/MehrabHussain47/Problem-Solving/blob/master/_12.ipynb\" target=\"_parent\"><img src=\"https://colab.research.google.com/assets/colab-badge.svg\" alt=\"Open In Colab\"/></a>"
      ]
    },
    {
      "cell_type": "markdown",
      "source": [
        "# Question"
      ],
      "metadata": {
        "id": "mI39d8HVBeOh"
      }
    },
    {
      "cell_type": "markdown",
      "source": [
        "<p>Generate an array of 100 linearly spaced points between 50 and 60<br>\n",
        "Then convert the vector array to matrix array by (10,10)<br>\n",
        "Then perform the operation, array % 5 == 0</p>"
      ],
      "metadata": {
        "id": "Xbyn0MUTBhba"
      }
    },
    {
      "cell_type": "code",
      "execution_count": null,
      "metadata": {
        "id": "8Vb6GNVBn6--"
      },
      "outputs": [],
      "source": [
        "import numpy as np"
      ]
    },
    {
      "cell_type": "code",
      "source": [
        "import numpy as np\n",
        "\n",
        "array = np.linspace(50, 60, 100)\n",
        "\n",
        "array.shape = (10, 10)\n",
        "\n",
        "result = (array % 5 == 0)\n",
        "\n",
        "print(result)\n"
      ],
      "metadata": {
        "colab": {
          "base_uri": "https://localhost:8080/"
        },
        "id": "VuaKP70ZoXHg",
        "outputId": "3104a39e-f095-4edc-c495-9793cb14bd19"
      },
      "execution_count": null,
      "outputs": [
        {
          "output_type": "stream",
          "name": "stdout",
          "text": [
            "[[ True False False False False False False False False False]\n",
            " [False False False False False False False False False False]\n",
            " [False False False False False False False False False False]\n",
            " [False False False False False False False False False False]\n",
            " [False False False False False False False False False False]\n",
            " [False False False False False False False False False False]\n",
            " [False False False False False False False False False False]\n",
            " [False False False False False False False False False False]\n",
            " [False False False False False False False False False False]\n",
            " [False False False False False False False False False  True]]\n"
          ]
        }
      ]
    },
    {
      "cell_type": "code",
      "source": [
        "array.shape = (10, 10)\n",
        "array\n",
        "# matrix = array.reshape((10, 10))\n",
        "#matrix"
      ],
      "metadata": {
        "colab": {
          "base_uri": "https://localhost:8080/"
        },
        "id": "TFnOjDkCpOyT",
        "outputId": "15974c83-0293-4c62-e6b6-9ae9c30026db"
      },
      "execution_count": null,
      "outputs": [
        {
          "output_type": "execute_result",
          "data": {
            "text/plain": [
              "array([[50.        , 50.1010101 , 50.2020202 , 50.3030303 , 50.4040404 ,\n",
              "        50.50505051, 50.60606061, 50.70707071, 50.80808081, 50.90909091],\n",
              "       [51.01010101, 51.11111111, 51.21212121, 51.31313131, 51.41414141,\n",
              "        51.51515152, 51.61616162, 51.71717172, 51.81818182, 51.91919192],\n",
              "       [52.02020202, 52.12121212, 52.22222222, 52.32323232, 52.42424242,\n",
              "        52.52525253, 52.62626263, 52.72727273, 52.82828283, 52.92929293],\n",
              "       [53.03030303, 53.13131313, 53.23232323, 53.33333333, 53.43434343,\n",
              "        53.53535354, 53.63636364, 53.73737374, 53.83838384, 53.93939394],\n",
              "       [54.04040404, 54.14141414, 54.24242424, 54.34343434, 54.44444444,\n",
              "        54.54545455, 54.64646465, 54.74747475, 54.84848485, 54.94949495],\n",
              "       [55.05050505, 55.15151515, 55.25252525, 55.35353535, 55.45454545,\n",
              "        55.55555556, 55.65656566, 55.75757576, 55.85858586, 55.95959596],\n",
              "       [56.06060606, 56.16161616, 56.26262626, 56.36363636, 56.46464646,\n",
              "        56.56565657, 56.66666667, 56.76767677, 56.86868687, 56.96969697],\n",
              "       [57.07070707, 57.17171717, 57.27272727, 57.37373737, 57.47474747,\n",
              "        57.57575758, 57.67676768, 57.77777778, 57.87878788, 57.97979798],\n",
              "       [58.08080808, 58.18181818, 58.28282828, 58.38383838, 58.48484848,\n",
              "        58.58585859, 58.68686869, 58.78787879, 58.88888889, 58.98989899],\n",
              "       [59.09090909, 59.19191919, 59.29292929, 59.39393939, 59.49494949,\n",
              "        59.5959596 , 59.6969697 , 59.7979798 , 59.8989899 , 60.        ]])"
            ]
          },
          "metadata": {},
          "execution_count": 21
        }
      ]
    },
    {
      "cell_type": "code",
      "source": [
        "res = array % 5 == 0\n",
        "print(res)"
      ],
      "metadata": {
        "colab": {
          "base_uri": "https://localhost:8080/"
        },
        "id": "oRTyLDpRpZ8J",
        "outputId": "21c00ada-e29c-4fc0-99ae-c3dda8584db7"
      },
      "execution_count": null,
      "outputs": [
        {
          "output_type": "stream",
          "name": "stdout",
          "text": [
            "[[ True False False False False False False False False False]\n",
            " [False False False False False False False False False False]\n",
            " [False False False False False False False False False False]\n",
            " [False False False False False False False False False False]\n",
            " [False False False False False False False False False False]\n",
            " [False False False False False False False False False False]\n",
            " [False False False False False False False False False False]\n",
            " [False False False False False False False False False False]\n",
            " [False False False False False False False False False False]\n",
            " [False False False False False False False False False  True]]\n"
          ]
        }
      ]
    }
  ]
}